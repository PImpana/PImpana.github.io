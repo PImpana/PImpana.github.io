{
  "nbformat": 4,
  "nbformat_minor": 0,
  "metadata": {
    "colab": {
      "provenance": []
    },
    "kernelspec": {
      "name": "python3",
      "display_name": "Python 3"
    },
    "language_info": {
      "name": "python"
    }
  },
  "cells": [
    {
      "cell_type": "code",
      "source": [
        "from google.colab import drive\n",
        "drive.mount('/content/drive')\n"
      ],
      "metadata": {
        "colab": {
          "base_uri": "https://localhost:8080/"
        },
        "id": "muH1jVQAq_oh",
        "outputId": "1aa42078-8b72-415c-de61-6f3d9f7d2bbe"
      },
      "execution_count": null,
      "outputs": [
        {
          "output_type": "stream",
          "name": "stdout",
          "text": [
            "Mounted at /content/drive\n"
          ]
        }
      ]
    },
    {
      "cell_type": "code",
      "source": [
        "folder_path = \"/content/drive/MyDrive/ColabNotebooks\"\n",
        "print(folder_path)"
      ],
      "metadata": {
        "colab": {
          "base_uri": "https://localhost:8080/"
        },
        "id": "IYPMBbWUrTad",
        "outputId": "949b9100-4635-43c9-85a9-66713abd797a"
      },
      "execution_count": null,
      "outputs": [
        {
          "output_type": "stream",
          "name": "stdout",
          "text": [
            "/content/drive/MyDrive/ColabNotebooks\n"
          ]
        }
      ]
    },
    {
      "cell_type": "code",
      "execution_count": null,
      "metadata": {
        "colab": {
          "base_uri": "https://localhost:8080/"
        },
        "id": "qXYNdbudRe44",
        "outputId": "0893206f-0b84-4684-e807-3ccda25c2c1a"
      },
      "outputs": [
        {
          "output_type": "stream",
          "name": "stdout",
          "text": [
            "------Iteration Starts--------\n",
            "Processing code: D7G7\n",
            "Requesting URL: https://www.ons.gov.uk/economy/inflationandpriceindices/timeseries/D7G7/mm23/data\n",
            "Saving data to: /content/drive/MyDrive/ColabNotebooks/CPI_ONS_D7G7.json\n",
            "------Iteration Ends--------\n",
            "\n",
            "------Iteration Starts--------\n",
            "Processing code: D7G8\n",
            "Requesting URL: https://www.ons.gov.uk/economy/inflationandpriceindices/timeseries/D7G8/mm23/data\n",
            "Saving data to: /content/drive/MyDrive/ColabNotebooks/CPI_ONS_D7G8.json\n",
            "------Iteration Ends--------\n",
            "\n",
            "------Iteration Starts--------\n",
            "Processing code: D7G9\n",
            "Requesting URL: https://www.ons.gov.uk/economy/inflationandpriceindices/timeseries/D7G9/mm23/data\n",
            "Saving data to: /content/drive/MyDrive/ColabNotebooks/CPI_ONS_D7G9.json\n",
            "------Iteration Ends--------\n",
            "\n",
            "------Iteration Starts--------\n",
            "Processing code: D7GA\n",
            "Requesting URL: https://www.ons.gov.uk/economy/inflationandpriceindices/timeseries/D7GA/mm23/data\n",
            "Saving data to: /content/drive/MyDrive/ColabNotebooks/CPI_ONS_D7GA.json\n",
            "------Iteration Ends--------\n",
            "\n",
            "------Iteration Starts--------\n",
            "Processing code: D7GB\n",
            "Requesting URL: https://www.ons.gov.uk/economy/inflationandpriceindices/timeseries/D7GB/mm23/data\n",
            "Saving data to: /content/drive/MyDrive/ColabNotebooks/CPI_ONS_D7GB.json\n",
            "------Iteration Ends--------\n",
            "\n",
            "------Iteration Starts--------\n",
            "Processing code: D7GD\n",
            "Requesting URL: https://www.ons.gov.uk/economy/inflationandpriceindices/timeseries/D7GD/mm23/data\n",
            "Saving data to: /content/drive/MyDrive/ColabNotebooks/CPI_ONS_D7GD.json\n",
            "------Iteration Ends--------\n",
            "\n",
            "------Iteration Starts--------\n",
            "Processing code: D7GE\n",
            "Requesting URL: https://www.ons.gov.uk/economy/inflationandpriceindices/timeseries/D7GE/mm23/data\n",
            "Saving data to: /content/drive/MyDrive/ColabNotebooks/CPI_ONS_D7GE.json\n",
            "------Iteration Ends--------\n",
            "\n",
            "------Iteration Starts--------\n",
            "Processing code: D7GH\n",
            "Requesting URL: https://www.ons.gov.uk/economy/inflationandpriceindices/timeseries/D7GH/mm23/data\n",
            "Saving data to: /content/drive/MyDrive/ColabNotebooks/CPI_ONS_D7GH.json\n",
            "------Iteration Ends--------\n",
            "\n",
            "------Iteration Starts--------\n",
            "Processing code: D7GI\n",
            "Requesting URL: https://www.ons.gov.uk/economy/inflationandpriceindices/timeseries/D7GI/mm23/data\n",
            "Saving data to: /content/drive/MyDrive/ColabNotebooks/CPI_ONS_D7GI.json\n",
            "------Iteration Ends--------\n",
            "\n",
            "Creating zip archive: /content/drive/MyDrive/ColabNotebooks/cpi_ons_data.zip\n",
            "Adding /content/drive/MyDrive/ColabNotebooks/CPI_ONS_D7G7.json to cpi_ons_data.zip\n",
            "Adding /content/drive/MyDrive/ColabNotebooks/CPI_ONS_D7G8.json to cpi_ons_data.zip\n",
            "Adding /content/drive/MyDrive/ColabNotebooks/CPI_ONS_D7G9.json to cpi_ons_data.zip\n",
            "Adding /content/drive/MyDrive/ColabNotebooks/CPI_ONS_D7GA.json to cpi_ons_data.zip\n",
            "Adding /content/drive/MyDrive/ColabNotebooks/CPI_ONS_D7GB.json to cpi_ons_data.zip\n",
            "Adding /content/drive/MyDrive/ColabNotebooks/CPI_ONS_D7GD.json to cpi_ons_data.zip\n",
            "Adding /content/drive/MyDrive/ColabNotebooks/CPI_ONS_D7GE.json to cpi_ons_data.zip\n",
            "Adding /content/drive/MyDrive/ColabNotebooks/CPI_ONS_D7GH.json to cpi_ons_data.zip\n",
            "Adding /content/drive/MyDrive/ColabNotebooks/CPI_ONS_D7GI.json to cpi_ons_data.zip\n",
            "All files have been zipped successfully.\n",
            "Files in output directory: ['CPI_ONS_D7G7.json', 'CPI_ONS_D7G8.json', 'CPI_ONS_D7G9.json', 'CPI_ONS_D7GA.json', 'CPI_ONS_D7GB.json', 'CPI_ONS_D7GD.json', 'CPI_ONS_D7GE.json', 'CPI_ONS_D7GH.json', 'CPI_ONS_D7GI.json', 'cpi_ons_data.zip']\n"
          ]
        }
      ],
      "source": [
        "import requests\n",
        "import json\n",
        "import zipfile\n",
        "import os\n",
        "\n",
        "# Directory where files will be saved\n",
        "output_dir = r\"/content/drive/MyDrive/ColabNotebooks\"\n",
        "os.makedirs(output_dir, exist_ok=True)  # Ensure the directory exists\n",
        "\n",
        "# 1. SETTING UP FILE AND URL BASES\n",
        "url_base = \"https://data.police.uk/api/\"\n",
        "file_base = \"CPI_ONS_{}.json\"\n",
        "\n",
        "# 2. LIST OF CPI-RELATED CODES\n",
        "longList = [\n",
        "    ['D7G7'],  # CPI ANNUAL RATE: ALL ITEMS 2015=100 in %\n",
        "    ['D7G8'],  # CPI ANNUAL RATE: FOOD AND NON-ALCOHOLIC BEVERAGES 2015=100 in %\n",
        "    ['D7G9'],  # CPI ANNUAL RATE: ALCOHOLIC BEVERAGES,TOBACCO 2015=100 in %\n",
        "    ['D7GA'],  # CPI ANNUAL RATE: CLOTHING AND FOOTWEAR 2015=100 in %\n",
        "    ['D7GB'],  # CPI ANNUAL RATE: HOUSING, WATER AND FUELS 2015=100 in %\n",
        "    ['D7GD'],  # CPI ANNUAL RATE: HEALTH 2015=100 IN %\n",
        "    ['D7GE'],  # CPI ANNUAL RATE: TRANSPORT 2015=100 IN %\n",
        "    ['D7GH'],  # CPI ANNUAL RATE: EDUCATION 2015=100 IN %\n",
        "    ['D7GI'],  # CPI ANNUAL RATE: HOTELS, CAFES AND RESTAURANTS 2015=100\n",
        "]\n",
        "\n",
        "# 3. MAIN LOOP\n",
        "for code in longList:\n",
        "    print(\"------Iteration Starts--------\")\n",
        "    print(f\"Processing code: {code[0]}\")\n",
        "\n",
        "    # Build and print URL\n",
        "    URL = url_base.format(SERIES_ID=code[0]) # Changed this line to use a keyword argument\n",
        "    print(f\"Requesting URL: {URL}\")\n",
        "\n",
        "    try:\n",
        "        # Make request and parse JSON\n",
        "        response = requests.get(URL)\n",
        "        response.raise_for_status()  # Raise an exception for bad status codes\n",
        "        data = response.json()\n",
        "\n",
        "        # Create filename and save data\n",
        "        fileName = file_base.format(code[0])\n",
        "        filePath = os.path.join(output_dir, fileName)\n",
        "        print(f'Saving data to: {filePath}')\n",
        "\n",
        "        with open(filePath, 'w', encoding='utf-8') as f:\n",
        "            json.dump(data, f, ensure_ascii=False, indent=4)\n",
        "\n",
        "    except requests.RequestException as e:\n",
        "        print(f\"Error making request for {code[0]}: {e}\")\n",
        "        continue\n",
        "    except json.JSONDecodeError as e:\n",
        "        print(f\"Error decoding JSON for {code[0]}: {e}\")\n",
        "        print(f\"Response content: {response.content}\")\n",
        "        continue\n",
        "\n",
        "    print(\"------Iteration Ends--------\\n\")\n",
        "\n",
        "# 4. ZIP ALL DOWNLOADED FILES\n",
        "zip_filename = \"cpi_ons_data.zip\"\n",
        "zip_filepath = os.path.join(output_dir, zip_filename)\n",
        "print(f\"Creating zip archive: {zip_filepath}\")\n",
        "with zipfile.ZipFile(zip_filepath, 'w', zipfile.ZIP_DEFLATED) as zipf:\n",
        "    for code in longList:\n",
        "        fn = file_base.format(code[0])\n",
        "        fn_path = os.path.join(output_dir, fn)\n",
        "        if os.path.exists(fn_path):\n",
        "            print(f\"Adding {fn_path} to {zip_filename}\")\n",
        "            zipf.write(fn_path, arcname=fn)  # arcname ensures just the filename inside zip\n",
        "\n",
        "print(\"All files have been zipped successfully.\")\n",
        "\n",
        "# Optional: Print out directory contents for verification\n",
        "print(\"Files in output directory:\", os.listdir(output_dir))"
      ]
    },
    {
      "cell_type": "code",
      "source": [],
      "metadata": {
        "id": "1-U85GJKqCym"
      },
      "execution_count": null,
      "outputs": []
    },
    {
      "cell_type": "code",
      "source": [
        "from google.colab import drive\n",
        "drive.mount('/content/drive')"
      ],
      "metadata": {
        "colab": {
          "base_uri": "https://localhost:8080/"
        },
        "id": "17hzgx0HRhJ4",
        "outputId": "c548ee84-3687-48ec-d235-18793bdc2bb6"
      },
      "execution_count": null,
      "outputs": [
        {
          "output_type": "stream",
          "name": "stdout",
          "text": [
            "Drive already mounted at /content/drive; to attempt to forcibly remount, call drive.mount(\"/content/drive\", force_remount=True).\n"
          ]
        }
      ]
    }
  ]
}
