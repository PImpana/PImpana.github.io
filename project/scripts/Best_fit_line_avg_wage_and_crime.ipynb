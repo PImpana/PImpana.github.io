{
  "nbformat": 4,
  "nbformat_minor": 0,
  "metadata": {
    "colab": {
      "provenance": []
    },
    "kernelspec": {
      "name": "python3",
      "display_name": "Python 3"
    },
    "language_info": {
      "name": "python"
    }
  },
  "cells": [
    {
      "cell_type": "code",
      "execution_count": null,
      "metadata": {
        "colab": {
          "base_uri": "https://localhost:8080/",
          "height": 421
        },
        "id": "oTRMMgbWiU7I",
        "outputId": "3430e4bb-7ee5-429a-c723-5c337b877f7d"
      },
      "outputs": [
        {
          "output_type": "display_data",
          "data": {
            "text/html": [
              "\n",
              "<style>\n",
              "  #altair-viz-37cfc4284dca4692a927871de5bd4129.vega-embed {\n",
              "    width: 100%;\n",
              "    display: flex;\n",
              "  }\n",
              "\n",
              "  #altair-viz-37cfc4284dca4692a927871de5bd4129.vega-embed details,\n",
              "  #altair-viz-37cfc4284dca4692a927871de5bd4129.vega-embed details summary {\n",
              "    position: relative;\n",
              "  }\n",
              "</style>\n",
              "<div id=\"altair-viz-37cfc4284dca4692a927871de5bd4129\"></div>\n",
              "<script type=\"text/javascript\">\n",
              "  var VEGA_DEBUG = (typeof VEGA_DEBUG == \"undefined\") ? {} : VEGA_DEBUG;\n",
              "  (function(spec, embedOpt){\n",
              "    let outputDiv = document.currentScript.previousElementSibling;\n",
              "    if (outputDiv.id !== \"altair-viz-37cfc4284dca4692a927871de5bd4129\") {\n",
              "      outputDiv = document.getElementById(\"altair-viz-37cfc4284dca4692a927871de5bd4129\");\n",
              "    }\n",
              "\n",
              "    const paths = {\n",
              "      \"vega\": \"https://cdn.jsdelivr.net/npm/vega@5?noext\",\n",
              "      \"vega-lib\": \"https://cdn.jsdelivr.net/npm/vega-lib?noext\",\n",
              "      \"vega-lite\": \"https://cdn.jsdelivr.net/npm/vega-lite@5.20.1?noext\",\n",
              "      \"vega-embed\": \"https://cdn.jsdelivr.net/npm/vega-embed@6?noext\",\n",
              "    };\n",
              "\n",
              "    function maybeLoadScript(lib, version) {\n",
              "      var key = `${lib.replace(\"-\", \"\")}_version`;\n",
              "      return (VEGA_DEBUG[key] == version) ?\n",
              "        Promise.resolve(paths[lib]) :\n",
              "        new Promise(function(resolve, reject) {\n",
              "          var s = document.createElement('script');\n",
              "          document.getElementsByTagName(\"head\")[0].appendChild(s);\n",
              "          s.async = true;\n",
              "          s.onload = () => {\n",
              "            VEGA_DEBUG[key] = version;\n",
              "            return resolve(paths[lib]);\n",
              "          };\n",
              "          s.onerror = () => reject(`Error loading script: ${paths[lib]}`);\n",
              "          s.src = paths[lib];\n",
              "        });\n",
              "    }\n",
              "\n",
              "    function showError(err) {\n",
              "      outputDiv.innerHTML = `<div class=\"error\" style=\"color:red;\">${err}</div>`;\n",
              "      throw err;\n",
              "    }\n",
              "\n",
              "    function displayChart(vegaEmbed) {\n",
              "      vegaEmbed(outputDiv, spec, embedOpt)\n",
              "        .catch(err => showError(`Javascript Error: ${err.message}<br>This usually means there's a typo in your chart specification. See the javascript console for the full traceback.`));\n",
              "    }\n",
              "\n",
              "    if(typeof define === \"function\" && define.amd) {\n",
              "      requirejs.config({paths});\n",
              "      let deps = [\"vega-embed\"];\n",
              "      require(deps, displayChart, err => showError(`Error loading script: ${err.message}`));\n",
              "    } else {\n",
              "      maybeLoadScript(\"vega\", \"5\")\n",
              "        .then(() => maybeLoadScript(\"vega-lite\", \"5.20.1\"))\n",
              "        .then(() => maybeLoadScript(\"vega-embed\", \"6\"))\n",
              "        .catch(showError)\n",
              "        .then(() => displayChart(vegaEmbed));\n",
              "    }\n",
              "  })({\"config\": {\"view\": {\"continuousWidth\": 300, \"continuousHeight\": 300}}, \"layer\": [{\"mark\": {\"type\": \"circle\", \"size\": 60}, \"encoding\": {\"tooltip\": [{\"field\": \"Average annual pay\", \"type\": \"quantitative\"}, {\"field\": \"Total Crimes\", \"type\": \"quantitative\"}], \"x\": {\"field\": \"Average annual pay\", \"type\": \"quantitative\"}, \"y\": {\"field\": \"Total Crimes\", \"type\": \"quantitative\"}}, \"title\": \"Scatter Plot of Average Pay vs Total Crimes\"}, {\"mark\": {\"type\": \"line\", \"color\": \"red\"}, \"encoding\": {\"x\": {\"field\": \"Average annual pay\", \"type\": \"quantitative\"}, \"y\": {\"field\": \"Fitted line\", \"type\": \"quantitative\"}}}], \"data\": {\"name\": \"data-8d13043d5afb5f14e7eb7bbab498004f\"}, \"$schema\": \"https://vega.github.io/schema/vega-lite/v5.20.1.json\", \"datasets\": {\"data-8d13043d5afb5f14e7eb7bbab498004f\": [{\"Average annual pay\": 43680, \"Total Crimes\": 33731, \"Fitted line\": 48072.843470154905}, {\"Average annual pay\": 38510, \"Total Crimes\": 81992, \"Fitted line\": 40760.86204000635}, {\"Average annual pay\": 36830, \"Total Crimes\": 27830, \"Fitted line\": 38384.821652646664}, {\"Average annual pay\": 35750, \"Total Crimes\": 36158, \"Fitted line\": 36857.36711791544}, {\"Average annual pay\": 35330, \"Total Crimes\": 39088, \"Fitted line\": 36263.35702107552}, {\"Average annual pay\": 33810, \"Total Crimes\": 19662, \"Fitted line\": 34113.60619441676}, {\"Average annual pay\": 32440, \"Total Crimes\": 35240, \"Fitted line\": 32176.001830915113}, {\"Average annual pay\": 31067, \"Total Crimes\": 24305, \"Fitted line\": 30234.154538150317}, {\"Average annual pay\": 29430, \"Total Crimes\": 30938, \"Fitted line\": 27918.929470229006}, {\"Average annual pay\": 28910, \"Total Crimes\": 26299, \"Fitted line\": 27183.488397951012}, {\"Average annual pay\": 28780, \"Total Crimes\": 21238, \"Fitted line\": 26999.62812988151}, {\"Average annual pay\": 28010, \"Total Crimes\": 23708, \"Fitted line\": 25910.60961900832}, {\"Average annual pay\": 27700, \"Total Crimes\": 32375, \"Fitted line\": 25472.173595150285}, {\"Average annual pay\": 27430, \"Total Crimes\": 10287, \"Fitted line\": 25090.30996146748}, {\"Average annual pay\": 27060, \"Total Crimes\": 11153, \"Fitted line\": 24567.0153523466}, {\"Average annual pay\": 26640, \"Total Crimes\": 29707, \"Fitted line\": 23973.005255506672}, {\"Average annual pay\": 26390, \"Total Crimes\": 36959, \"Fitted line\": 23619.427816911484}, {\"Average annual pay\": 26140, \"Total Crimes\": 25389, \"Fitted line\": 23265.850378316296}, {\"Average annual pay\": 26120, \"Total Crimes\": 28751, \"Fitted line\": 23237.56418322868}, {\"Average annual pay\": 25900, \"Total Crimes\": 27844, \"Fitted line\": 22926.416037264913}, {\"Average annual pay\": 25767, \"Total Crimes\": 18505, \"Fitted line\": 22738.312839932267}, {\"Average annual pay\": 25220, \"Total Crimes\": 12766, \"Fitted line\": 21964.685404285992}, {\"Average annual pay\": 25033, \"Total Crimes\": 25932, \"Fitted line\": 21700.209480216785}, {\"Average annual pay\": 24778, \"Total Crimes\": 12017, \"Fitted line\": 21339.56049284969}, {\"Average annual pay\": 24500, \"Total Crimes\": 25938, \"Fitted line\": 20946.382381131836}, {\"Average annual pay\": 24360, \"Total Crimes\": 18764, \"Fitted line\": 20748.379015518534}, {\"Average annual pay\": 24010, \"Total Crimes\": 22074, \"Fitted line\": 20253.370601485265}, {\"Average annual pay\": 23689, \"Total Crimes\": 23005, \"Fitted line\": 19799.37717032904}, {\"Average annual pay\": 23350, \"Total Crimes\": 27049, \"Fitted line\": 19319.926163593962}, {\"Average annual pay\": 23122, \"Total Crimes\": 15436, \"Fitted line\": 18997.46353959514}, {\"Average annual pay\": 22763, \"Total Crimes\": 21984, \"Fitted line\": 18489.726337772452}, {\"Average annual pay\": 21522, \"Total Crimes\": 15061, \"Fitted line\": 16734.567932585924}, {\"Average annual pay\": 29072, \"Total Crimes\": 26287, \"Fitted line\": 27412.606578160696}]}}, {\"mode\": \"vega-lite\"});\n",
              "</script>"
            ],
            "text/plain": [
              "alt.LayerChart(...)"
            ]
          },
          "metadata": {}
        },
        {
          "output_type": "stream",
          "name": "stdout",
          "text": [
            "Best-fit line: Total Crimes = 1.41 * Average annual pay + -13704.21\n",
            "R-squared: 0.3311\n"
          ]
        }
      ],
      "source": [
        "import numpy as np\n",
        "import pandas as pd\n",
        "import altair as alt\n",
        "\n",
        "# Load data from CSV file\n",
        "data = pd.read_csv('https://raw.githubusercontent.com/PImpana/PImpana.github.io/refs/heads/main/CC9/Borough_avgpay%26crime.csv')\n",
        "\n",
        "# Ensure the column names are correctly used here\n",
        "Average_annual_pay = data['Average annual pay']\n",
        "Total_Crimes = data['Total Crimes']\n",
        "\n",
        "# Calculate the best-fit line using np.polyfit, degree 1 for linear\n",
        "slope, intercept = np.polyfit(Average_annual_pay, Total_Crimes, 1)\n",
        "\n",
        "# Create the best-fit line\n",
        "Total_Crimes_fit = slope * Average_annual_pay + intercept\n",
        "\n",
        "# Calculate the residuals (differences between actual and fitted values)\n",
        "residuals = Total_Crimes - Total_Crimes_fit\n",
        "\n",
        "# Calculate SS_tot (Total sum of squares)\n",
        "SS_tot = np.sum((Total_Crimes - np.mean(Total_Crimes)) ** 2)\n",
        "\n",
        "# Calculate SS_res (Residual sum of squares)\n",
        "SS_res = np.sum(residuals ** 2)\n",
        "\n",
        "# Calculate R-squared\n",
        "R_squared = 1 - (SS_res / SS_tot)\n",
        "\n",
        "# Convert the data and fitted line into a DataFrame\n",
        "fit_data = pd.DataFrame({\n",
        "    'Average annual pay': Average_annual_pay,\n",
        "    'Total Crimes': Total_Crimes,\n",
        "    'Fitted line': Total_Crimes_fit\n",
        "})\n",
        "\n",
        "# Create the Vega-Lite chart using Altair\n",
        "scatter_plot = alt.Chart(fit_data).mark_circle(size=60).encode(\n",
        "    x='Average annual pay',\n",
        "    y='Total Crimes',\n",
        "    tooltip=['Average annual pay', 'Total Crimes']\n",
        ").properties(title=\"Scatter Plot of Average Pay vs Total Crimes\")\n",
        "\n",
        "line_plot = alt.Chart(fit_data).mark_line(color='red').encode(\n",
        "    x='Average annual pay',\n",
        "    y='Fitted line'\n",
        ")\n",
        "\n",
        "# Combine scatter plot and best-fit line plot\n",
        "final_chart = scatter_plot + line_plot\n",
        "\n",
        "final_chart.show()\n",
        "\n",
        "# Output the equation of the best-fit line and the R-squared value\n",
        "print(f\"Best-fit line: Total Crimes = {slope:.2f} * Average annual pay + {intercept:.2f}\")\n",
        "print(f\"R-squared: {R_squared:.4f}\")\n"
      ]
    }
  ]
}